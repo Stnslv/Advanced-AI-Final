{
 "cells": [
  {
   "cell_type": "markdown",
   "metadata": {},
   "source": [
    "# Mountain Car Fixed Policy"
   ]
  },
  {
   "cell_type": "markdown",
   "metadata": {},
   "source": [
    "## Imports"
   ]
  },
  {
   "cell_type": "code",
   "execution_count": 1,
   "metadata": {},
   "outputs": [],
   "source": [
    "import numpy as np\n",
    "import gym\n",
    "import random"
   ]
  },
  {
   "cell_type": "markdown",
   "metadata": {},
   "source": [
    "## Environment"
   ]
  },
  {
   "cell_type": "code",
   "execution_count": 2,
   "metadata": {},
   "outputs": [
    {
     "name": "stdout",
     "output_type": "stream",
     "text": [
      "\u001b[33mWARN: gym.spaces.Box autodetected dtype as <class 'numpy.float32'>. Please provide explicit dtype.\u001b[0m\n"
     ]
    }
   ],
   "source": [
    "env = gym.make('MountainCar-v0')"
   ]
  },
  {
   "cell_type": "markdown",
   "metadata": {},
   "source": [
    "## Policy\n",
    "\n",
    "In this problem, we are concerned with overcoming the hill to get to the flag at the top.  This means having enough speed to get up the hill.  As a result, the fixed policy is simple: If we fall below a certain speed threshold, meaning that we are struggling to get up a hill either on the left or on the right, we simply reverse direction and speed off the opposite way.  In this policy, we are never idle."
   ]
  },
  {
   "cell_type": "code",
   "execution_count": 3,
   "metadata": {},
   "outputs": [],
   "source": [
    "def get_action(velocity):\n",
    "    # If the velocity falls below a certain point, go left.  \n",
    "    #Otherwise if the velocity grows larger than a certain threshold, go right.\n",
    "    if(velocity <= 0.001):\n",
    "        return 0\n",
    "    elif(velocity >= -0.001):\n",
    "        return 2"
   ]
  },
  {
   "cell_type": "markdown",
   "metadata": {},
   "source": [
    "## Testing"
   ]
  },
  {
   "cell_type": "code",
   "execution_count": 4,
   "metadata": {},
   "outputs": [],
   "source": [
    "episodes = 10\n",
    "steps = 200\n",
    "\n",
    "reward_list = []\n",
    "for episode in range(1, episodes + 1):\n",
    "    initial_state = env.reset()\n",
    "    total_reward = 0\n",
    "    cur_action = get_action(initial_state[1])\n",
    "    \n",
    "    for step in range(1, steps + 1):\n",
    "        next_state, reward, done, _ = env.step(cur_action)\n",
    "        total_reward += reward\n",
    "        if done: break\n",
    "        state = next_state\n",
    "        cur_action = get_action(next_state[1])\n",
    "        env.render()\n",
    "    reward_list.append(total_reward)\n",
    "\n",
    "env.close()"
   ]
  },
  {
   "cell_type": "markdown",
   "metadata": {},
   "source": [
    "## Results"
   ]
  },
  {
   "cell_type": "code",
   "execution_count": 5,
   "metadata": {},
   "outputs": [
    {
     "name": "stdout",
     "output_type": "stream",
     "text": [
      "Max/Avg/Min timesteps observerd in getting to flag:\n",
      "87.0 126.6 170.0\n"
     ]
    }
   ],
   "source": [
    "print(\"Max/Avg/Min timesteps observerd in getting to flag:\")\n",
    "print(-np.max(reward_list), -np.average(reward_list), -np.min(reward_list))"
   ]
  }
 ],
 "metadata": {
  "kernelspec": {
   "display_name": "Python 3",
   "language": "python",
   "name": "python3"
  },
  "language_info": {
   "codemirror_mode": {
    "name": "ipython",
    "version": 3
   },
   "file_extension": ".py",
   "mimetype": "text/x-python",
   "name": "python",
   "nbconvert_exporter": "python",
   "pygments_lexer": "ipython3",
   "version": "3.6.6"
  }
 },
 "nbformat": 4,
 "nbformat_minor": 2
}
